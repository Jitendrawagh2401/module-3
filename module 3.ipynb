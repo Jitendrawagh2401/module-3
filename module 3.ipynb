{
 "cells": [
  {
   "cell_type": "code",
   "execution_count": null,
   "id": "477cf3d1",
   "metadata": {},
   "outputs": [],
   "source": [
    "#10)get unique values from a list\n",
    "my_list = [20,40,60,80,100,120,140]\n",
    "print(\"original list : \",my_list)\n",
    "my_set = set(my_list)\n",
    "my_new_list = list(my_set)\n",
    "print(\"list of unique numbers : \",my_new_list)"
   ]
  },
  {
   "cell_type": "code",
   "execution_count": null,
   "id": "9f1af97a",
   "metadata": {},
   "outputs": [],
   "source": [
    "#11)unzip a list of tuples into individuals lists\n",
    "#create tuple\n",
    "l = [(2,4), (6,8), (10,12), (14,16)]\n",
    "print(list(zip(*l)))"
   ]
  },
  {
   "cell_type": "code",
   "execution_count": null,
   "id": "918f666c",
   "metadata": {},
   "outputs": [],
   "source": [
    "#12)convert a list of tuples into a dictionary\n",
    "list_1 = [(\"akash\", 10), (\"pavan\", 20), (\"navin\", 65), (\"pravin\", 98), (\"rahul\", 45), (\"mayur\", 32)]\n",
    "dict_1 = dict()\n",
    "for student ,score in list_1:\n",
    "    dict_1.setdefault(student, []).append(score)\n",
    "    \n",
    "print(dict_1)"
   ]
  },
  {
   "cell_type": "code",
   "execution_count": null,
   "id": "bc211e5c",
   "metadata": {},
   "outputs": [],
   "source": [
    "#13) sort dictionary by value\n",
    "import operator\n",
    "d= {1: 2, 3: 4, 4: 3, 2: 1, 0: 0}\n",
    "print('Original dictionary : ',d)\n",
    "sorted_d = sorted(d.items(), key=operator.itemgetter(1))\n",
    "print('Dictionary in ascending order by value : ',sorted_d)\n",
    "sorted_d = dict( sorted(d.items(), key=operator.itemgetter(1),reverse=True))\n",
    "print('Dictionary in descending order by value : ',sorted_d)\n"
   ]
  },
  {
   "cell_type": "code",
   "execution_count": null,
   "id": "27db7018",
   "metadata": {},
   "outputs": [],
   "source": [
    "#14)highest 3 value in dictionary\n",
    "# Python program to demonstrate\n",
    "# finding 3 highest values in a Dictionary\n",
    "\n",
    "from collections import Counter\n",
    "\n",
    "# Initial Dictionary\n",
    "my_dict = {'A': 67, 'B': 23, 'C': 45,\n",
    "\t\t'D': 56, 'E': 12, 'F': 69}\n",
    "\n",
    "k = Counter(my_dict)\n",
    "\n",
    "# Finding 3 highest values\n",
    "high = k.most_common(3)\n",
    "\n",
    "print(\"Initial Dictionary:\")\n",
    "print(my_dict, \"\\n\")\n",
    "\n",
    "\n",
    "print(\"Dictionary with 3 highest values:\")\n",
    "print(\"Keys: Values\")\n",
    "\n",
    "for i in high:\n",
    "\tprint(i[0],\" :\",i[1],\" \")\n"
   ]
  },
  {
   "cell_type": "code",
   "execution_count": null,
   "id": "6aa604e1",
   "metadata": {},
   "outputs": [],
   "source": [
    "#15)fibonacci series n= 7.\n",
    "x,y =0,1\n",
    "while y<50:\n",
    "    print(y)\n",
    "    x,y = y,x+y"
   ]
  },
  {
   "cell_type": "code",
   "execution_count": null,
   "id": "e236df18",
   "metadata": {},
   "outputs": [],
   "source": [
    "#16)counting the frequencies in list using dictionary in python\n",
    "# Python program to count the frequency of\n",
    "# elements in a list using a dictionary\n",
    "\n",
    "def CountFrequency(my_list):\n",
    "\n",
    "\t# Creating an empty dictionary\n",
    "\tfreq = {}\n",
    "\tfor item in my_list:\n",
    "\t\tif (item in freq):\n",
    "\t\t\tfreq[item] += 1\n",
    "\t\telse:\n",
    "\t\t\tfreq[item] = 1\n",
    "\n",
    "\tfor key, value in freq.items():\n",
    "\t\tprint (\"% d : % d\"%(key, value))\n",
    "\n",
    "# Driver function\n",
    "if __name__ == \"__main__\":\n",
    "\tmy_list =[1, 1, 1, 5, 5, 3, 1, 3, 3, 1, 4, 4, 4, 2, 2, 2, 2]\n",
    "\n",
    "\tCountFrequency(my_list)\n"
   ]
  },
  {
   "cell_type": "code",
   "execution_count": null,
   "id": "6d975946",
   "metadata": {},
   "outputs": [],
   "source": [
    "#17) Write a python program using function to find the sum of odd series and even series\n"
   ]
  },
  {
   "cell_type": "code",
   "execution_count": 6,
   "id": "9a5751e3",
   "metadata": {},
   "outputs": [
    {
     "ename": "SyntaxError",
     "evalue": "invalid syntax (3585594967.py, line 7)",
     "output_type": "error",
     "traceback": [
      "\u001b[1;36m  Input \u001b[1;32mIn [6]\u001b[1;36m\u001b[0m\n\u001b[1;33m    if --name--== '--main--':\u001b[0m\n\u001b[1;37m              ^\u001b[0m\n\u001b[1;31mSyntaxError\u001b[0m\u001b[1;31m:\u001b[0m invalid syntax\n"
     ]
    }
   ],
   "source": [
    "#18)factorial of number using recursion\n",
    "def factors(n,i):\n",
    "    if(i<=n):\n",
    "        if(n%i ==0):\n",
    "            print(i,end = \" \");\n",
    "            factors(n,i+1);\n",
    "            if --name--== '--main--':\n",
    "            n= 16;\n",
    "            factors(N,1);\n",
    "            "
   ]
  },
  {
   "cell_type": "code",
   "execution_count": 9,
   "id": "f3bfa8bd",
   "metadata": {},
   "outputs": [
    {
     "name": "stdout",
     "output_type": "stream",
     "text": [
      "your password *pS26Jr~\n"
     ]
    }
   ],
   "source": [
    "#20)\n",
    "import random     #first we import a library for generate a random passwd\n",
    "\n",
    "\n",
    "upeercase = \"ABCDEFGHIJKLMOPQRSTVUWXYZ\"\n",
    "\n",
    "lowercase = \"abcdefghijklmnopqrstuvwxyz\"\n",
    "\n",
    "numbers = \"1234567890\"\n",
    "\n",
    "special = \"!@#$%&*.?\\/~_\"\n",
    "\n",
    "use_this = upeercase + lowercase + numbers + special\n",
    "\n",
    "lenght_for_passwd = 8\n",
    "\n",
    "passwd = \"\".join(random.sample(use_this, lenght_for_passwd))\n",
    "\n",
    "print(\"your password\",passwd)\n",
    "      "
   ]
  },
  {
   "cell_type": "code",
   "execution_count": null,
   "id": "6bc64a9e",
   "metadata": {},
   "outputs": [],
   "source": []
  }
 ],
 "metadata": {
  "kernelspec": {
   "display_name": "Python 3 (ipykernel)",
   "language": "python",
   "name": "python3"
  },
  "language_info": {
   "codemirror_mode": {
    "name": "ipython",
    "version": 3
   },
   "file_extension": ".py",
   "mimetype": "text/x-python",
   "name": "python",
   "nbconvert_exporter": "python",
   "pygments_lexer": "ipython3",
   "version": "3.9.12"
  }
 },
 "nbformat": 4,
 "nbformat_minor": 5
}
